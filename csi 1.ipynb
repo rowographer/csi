{
 "cells": [
  {
   "cell_type": "code",
   "execution_count": 2,
   "id": "d404fb7d-5957-42c8-9299-a69bfca9d24f",
   "metadata": {},
   "outputs": [
    {
     "name": "stdout",
     "output_type": "stream",
     "text": [
      "Error connecting to database: ('IM002', '[IM002] [Microsoft][ODBC Driver Manager] Data source name not found and no default driver specified (0) (SQLDriverConnect)')\n"
     ]
    }
   ],
   "source": [
    "import pyodbc\n",
    "\n",
    "# Replace placeholders with your actual credentials\n",
    "server = 'xxxxxx.xxx.xxx'  # Replace with remote server IP address\n",
    "database = 'CompanyDB'\n",
    "username = 'YourUsername'\n",
    "password = 'YourPassword123'\n",
    "\n",
    "# Connect string with error handling\n",
    "try:\n",
    "    connection_string = f'DRIVER={{ODBC Driver 17 for SQL Server}};SERVER={server};DATABASE={database};UID={username};PWD={password}'\n",
    "    connection = pyodbc.connect(connection_string)\n",
    "    cursor = connection.cursor()\n",
    "except pyodbc.Error as ex:\n",
    "    print(\"Error connecting to database:\", ex)\n",
    "else:\n",
    "    # Execute query and fetch first 5 rows\n",
    "    try:\n",
    "        sql = \"SELECT TOP 5 * FROM Employees\"  # Limit to top 5 rows for efficiency\n",
    "        cursor.execute(sql)\n",
    "        rows = cursor.fetchall()\n",
    "\n",
    "        # Print data\n",
    "        print(\"Employee Data:\")\n",
    "        for row in rows:\n",
    "            print(row)  # Print each row as a tuple\n",
    "    except pyodbc.Error as ex:\n",
    "        print(\"Error retrieving data:\", ex)\n",
    "    finally:\n",
    "        # Close connection (ensure it happens even in case of errors)\n",
    "        if connection:\n",
    "            connection.close()"
   ]
  },
  {
   "cell_type": "code",
   "execution_count": null,
   "id": "41756a6a-6f57-4fe6-baac-d9983a786f1f",
   "metadata": {},
   "outputs": [],
   "source": []
  }
 ],
 "metadata": {
  "kernelspec": {
   "display_name": "Python 3 (ipykernel)",
   "language": "python",
   "name": "python3"
  },
  "language_info": {
   "codemirror_mode": {
    "name": "ipython",
    "version": 3
   },
   "file_extension": ".py",
   "mimetype": "text/x-python",
   "name": "python",
   "nbconvert_exporter": "python",
   "pygments_lexer": "ipython3",
   "version": "3.11.7"
  }
 },
 "nbformat": 4,
 "nbformat_minor": 5
}
